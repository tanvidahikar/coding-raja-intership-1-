{
  "nbformat": 4,
  "nbformat_minor": 0,
  "metadata": {
    "colab": {
      "provenance": [],
      "authorship_tag": "ABX9TyMyvFA+7HRKWZi/03JPYgW6",
      "include_colab_link": true
    },
    "kernelspec": {
      "name": "python3",
      "display_name": "Python 3"
    },
    "language_info": {
      "name": "python"
    }
  },
  "cells": [
    {
      "cell_type": "markdown",
      "metadata": {
        "id": "view-in-github",
        "colab_type": "text"
      },
      "source": [
        "<a href=\"https://colab.research.google.com/github/tanvidahikar/coding-raja-intership-1-/blob/main/Untitled15.ipynb\" target=\"_parent\"><img src=\"https://colab.research.google.com/assets/colab-badge.svg\" alt=\"Open In Colab\"/></a>"
      ]
    },
    {
      "cell_type": "code",
      "execution_count": null,
      "metadata": {
        "colab": {
          "base_uri": "https://localhost:8080/"
        },
        "id": "E4WPsjDubBvm",
        "outputId": "477818e6-88be-46db-e143-67c27e02c9ae"
      },
      "outputs": [
        {
          "output_type": "stream",
          "name": "stdout",
          "text": [
            "Budget Tracker Menu:\n",
            "1. Add Expense\n",
            "2. Add Income\n",
            "3. View Budget\n",
            "4. Exit\n",
            "Choose an option: 1\n",
            "Enter expense amount: 500\n",
            "Enter expense description: 20\n",
            "Enter date (YYYY-MM-DD) or leave empty for today: 2004-03-07\n",
            "Expense added successfully!\n",
            "\n",
            "Budget Tracker Menu:\n",
            "1. Add Expense\n",
            "2. Add Income\n",
            "3. View Budget\n",
            "4. Exit\n"
          ]
        }
      ],
      "source": [
        "import datetime\n",
        "\n",
        "# Define a list to store transactions\n",
        "transactions = []\n",
        "\n",
        "def add_expense():\n",
        "    \"\"\"Function to add an expense.\"\"\"\n",
        "    try:\n",
        "        amount = float(input(\"Enter expense amount: \"))\n",
        "        description = input(\"Enter expense description: \")\n",
        "        date = input(\"Enter date (YYYY-MM-DD) or leave empty for today: \")\n",
        "        if date == \"\":\n",
        "            date = datetime.datetime.now().strftime(\"%Y-%m-%d\")\n",
        "        transactions.append({\"type\": \"expense\", \"amount\": amount, \"description\": description, \"date\": date})\n",
        "        print(\"Expense added successfully!\\n\")\n",
        "    except ValueError:\n",
        "        print(\"Invalid input. Please enter a valid amount.\\n\")\n",
        "\n",
        "def add_income():\n",
        "    \"\"\"Function to add income.\"\"\"\n",
        "    try:\n",
        "        amount = float(input(\"Enter income amount: \"))\n",
        "        description = input(\"Enter income description: \")\n",
        "        date = input(\"Enter date (YYYY-MM-DD) or leave empty for today: \")\n",
        "        if date == \"\":\n",
        "            date = datetime.datetime.now().strftime(\"%Y-%m-%d\")\n",
        "        transactions.append({\"type\": \"income\", \"amount\": amount, \"description\": description, \"date\": date})\n",
        "        print(\"Income added successfully!\\n\")\n",
        "    except ValueError:\n",
        "        print(\"Invalid input. Please enter a valid amount.\\n\")\n",
        "\n",
        "def view_budget():\n",
        "    \"\"\"Function to view the budget summary and all transactions.\"\"\"\n",
        "    total_income = sum(t[\"amount\"] for t in transactions if t[\"type\"] == \"income\")\n",
        "    total_expense = sum(t[\"amount\"] for t in transactions if t[\"type\"] == \"expense\")\n",
        "    balance = total_income - total_expense\n",
        "\n",
        "    print(\"\\nBudget Summary:\")\n",
        "    print(f\"Total Income: ${total_income:.2f}\")\n",
        "    print(f\"Total Expense: ${total_expense:.2f}\")\n",
        "    print(f\"Balance: ${balance:.2f}\\n\")\n",
        "\n",
        "    print(\"Transactions:\")\n",
        "    for t in transactions:\n",
        "        print(f\"{t['date']} - {t['type'].capitalize()}: ${t['amount']:.2f} ({t['description']})\")\n",
        "    print(\"\")\n",
        "\n",
        "def main():\n",
        "    \"\"\"Main function to run the budget tracker program.\"\"\"\n",
        "    while True:\n",
        "        print(\"Budget Tracker Menu:\")\n",
        "        print(\"1. Add Expense\")\n",
        "        print(\"2. Add Income\")\n",
        "        print(\"3. View Budget\")\n",
        "        print(\"4. Exit\")\n",
        "\n",
        "        choice = input(\"Choose an option: \")\n",
        "\n",
        "        if choice == \"1\":\n",
        "            add_expense()\n",
        "        elif choice == \"2\":\n",
        "            add_income()\n",
        "        elif choice == \"3\":\n",
        "            view_budget()\n",
        "        elif choice == \"4\":\n",
        "            print(\"Exiting Budget Tracker. Goodbye!\")\n",
        "            break\n",
        "        else:\n",
        "            print(\"Invalid choice. Please try again.\\n\")\n",
        "\n",
        "if __name__ == \"__main__\":\n",
        "    main()"
      ]
    }
  ]
}